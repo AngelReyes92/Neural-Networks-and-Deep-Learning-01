{
  "cells": [
    {
      "cell_type": "code",
      "execution_count": null,
      "id": "b13bca7b-d665-475c-b990-f9affea0642e",
      "metadata": {
        "id": "b13bca7b-d665-475c-b990-f9affea0642e"
      },
      "outputs": [],
      "source": [
        "# Load necessary libraries\n",
        "from pyspark.sql import SparkSession"
      ]
    },
    {
      "cell_type": "code",
      "execution_count": null,
      "id": "5f62ec97-abf0-4fe7-bdd7-36f89933d74f",
      "metadata": {
        "id": "5f62ec97-abf0-4fe7-bdd7-36f89933d74f"
      },
      "outputs": [],
      "source": [
        "# Create Spark session (Databricks already provides a Spark session by default)\n",
        "spark = SparkSession.builder.appName(\"FlightDelaysAnalysis\").getOrCreate()"
      ]
    },
    {
      "cell_type": "markdown",
      "id": "cf2e80e2-c6d3-4cc3-a5d5-62317443cdcc",
      "metadata": {
        "id": "cf2e80e2-c6d3-4cc3-a5d5-62317443cdcc"
      },
      "source": [
        "1. Load Data: Import the Flight Delays dataset"
      ]
    },
    {
      "cell_type": "code",
      "execution_count": null,
      "id": "14f5d05b-983f-4e6a-b5ab-579bbe1b5bca",
      "metadata": {
        "id": "14f5d05b-983f-4e6a-b5ab-579bbe1b5bca"
      },
      "outputs": [],
      "source": [
        "# Define the file path\n",
        "file_path = \"C:/Users/angel/00Angel/flights.csv\"  # Replace with the actual path if different\n",
        "\n",
        "# Load the dataset as a Spark DataFrame\n",
        "flight_data = spark.read.csv(file_path, header=True, inferSchema=True)"
      ]
    },
    {
      "cell_type": "markdown",
      "id": "975ba551-f232-4323-86d6-072e7f8373ff",
      "metadata": {
        "id": "975ba551-f232-4323-86d6-072e7f8373ff"
      },
      "source": [
        "2. Initial Exploration: Perform a preliminary analysis to understand the data."
      ]
    },
    {
      "cell_type": "code",
      "execution_count": null,
      "id": "a1df5579-234f-4125-a3d2-5aa9c0626a83",
      "metadata": {
        "id": "a1df5579-234f-4125-a3d2-5aa9c0626a83",
        "outputId": "72169d61-38a6-4285-a75b-5f0df139c3a8"
      },
      "outputs": [
        {
          "name": "stdout",
          "output_type": "stream",
          "text": [
            "+----+-----+---+-----------+-------+-------------+-----------+--------------+-------------------+-------------------+--------------+---------------+--------+----------+--------------+------------+--------+--------+---------+-------+-----------------+------------+-------------+--------+---------+-------------------+----------------+--------------+-------------+-------------------+-------------+\n",
            "|YEAR|MONTH|DAY|DAY_OF_WEEK|AIRLINE|FLIGHT_NUMBER|TAIL_NUMBER|ORIGIN_AIRPORT|DESTINATION_AIRPORT|SCHEDULED_DEPARTURE|DEPARTURE_TIME|DEPARTURE_DELAY|TAXI_OUT|WHEELS_OFF|SCHEDULED_TIME|ELAPSED_TIME|AIR_TIME|DISTANCE|WHEELS_ON|TAXI_IN|SCHEDULED_ARRIVAL|ARRIVAL_TIME|ARRIVAL_DELAY|DIVERTED|CANCELLED|CANCELLATION_REASON|AIR_SYSTEM_DELAY|SECURITY_DELAY|AIRLINE_DELAY|LATE_AIRCRAFT_DELAY|WEATHER_DELAY|\n",
            "+----+-----+---+-----------+-------+-------------+-----------+--------------+-------------------+-------------------+--------------+---------------+--------+----------+--------------+------------+--------+--------+---------+-------+-----------------+------------+-------------+--------+---------+-------------------+----------------+--------------+-------------+-------------------+-------------+\n",
            "|2015|    1|  1|          4|     AS|           98|     N407AS|           ANC|                SEA|                  5|          2354|            -11|      21|        15|           205|         194|     169|    1448|      404|      4|              430|         408|          -22|       0|        0|               NULL|            NULL|          NULL|         NULL|               NULL|         NULL|\n",
            "|2015|    1|  1|          4|     AA|         2336|     N3KUAA|           LAX|                PBI|                 10|             2|             -8|      12|        14|           280|         279|     263|    2330|      737|      4|              750|         741|           -9|       0|        0|               NULL|            NULL|          NULL|         NULL|               NULL|         NULL|\n",
            "|2015|    1|  1|          4|     US|          840|     N171US|           SFO|                CLT|                 20|            18|             -2|      16|        34|           286|         293|     266|    2296|      800|     11|              806|         811|            5|       0|        0|               NULL|            NULL|          NULL|         NULL|               NULL|         NULL|\n",
            "|2015|    1|  1|          4|     AA|          258|     N3HYAA|           LAX|                MIA|                 20|            15|             -5|      15|        30|           285|         281|     258|    2342|      748|      8|              805|         756|           -9|       0|        0|               NULL|            NULL|          NULL|         NULL|               NULL|         NULL|\n",
            "|2015|    1|  1|          4|     AS|          135|     N527AS|           SEA|                ANC|                 25|            24|             -1|      11|        35|           235|         215|     199|    1448|      254|      5|              320|         259|          -21|       0|        0|               NULL|            NULL|          NULL|         NULL|               NULL|         NULL|\n",
            "+----+-----+---+-----------+-------+-------------+-----------+--------------+-------------------+-------------------+--------------+---------------+--------+----------+--------------+------------+--------+--------+---------+-------+-----------------+------------+-------------+--------+---------+-------------------+----------------+--------------+-------------+-------------------+-------------+\n",
            "only showing top 5 rows\n",
            "\n"
          ]
        }
      ],
      "source": [
        "# Display the loaded DataFrame (optional)\n",
        "flight_data.show(5)  # Display the first 5 rows"
      ]
    },
    {
      "cell_type": "code",
      "execution_count": null,
      "id": "456554c5-8fa0-4eee-9f54-b81670c5b76d",
      "metadata": {
        "id": "456554c5-8fa0-4eee-9f54-b81670c5b76d",
        "outputId": "ae11008a-ccc0-40c1-e803-21c1996767cc"
      },
      "outputs": [
        {
          "name": "stdout",
          "output_type": "stream",
          "text": [
            "root\n",
            " |-- YEAR: integer (nullable = true)\n",
            " |-- MONTH: integer (nullable = true)\n",
            " |-- DAY: integer (nullable = true)\n",
            " |-- DAY_OF_WEEK: integer (nullable = true)\n",
            " |-- AIRLINE: string (nullable = true)\n",
            " |-- FLIGHT_NUMBER: integer (nullable = true)\n",
            " |-- TAIL_NUMBER: string (nullable = true)\n",
            " |-- ORIGIN_AIRPORT: string (nullable = true)\n",
            " |-- DESTINATION_AIRPORT: string (nullable = true)\n",
            " |-- SCHEDULED_DEPARTURE: integer (nullable = true)\n",
            " |-- DEPARTURE_TIME: integer (nullable = true)\n",
            " |-- DEPARTURE_DELAY: integer (nullable = true)\n",
            " |-- TAXI_OUT: integer (nullable = true)\n",
            " |-- WHEELS_OFF: integer (nullable = true)\n",
            " |-- SCHEDULED_TIME: integer (nullable = true)\n",
            " |-- ELAPSED_TIME: integer (nullable = true)\n",
            " |-- AIR_TIME: integer (nullable = true)\n",
            " |-- DISTANCE: integer (nullable = true)\n",
            " |-- WHEELS_ON: integer (nullable = true)\n",
            " |-- TAXI_IN: integer (nullable = true)\n",
            " |-- SCHEDULED_ARRIVAL: integer (nullable = true)\n",
            " |-- ARRIVAL_TIME: integer (nullable = true)\n",
            " |-- ARRIVAL_DELAY: integer (nullable = true)\n",
            " |-- DIVERTED: integer (nullable = true)\n",
            " |-- CANCELLED: integer (nullable = true)\n",
            " |-- CANCELLATION_REASON: string (nullable = true)\n",
            " |-- AIR_SYSTEM_DELAY: integer (nullable = true)\n",
            " |-- SECURITY_DELAY: integer (nullable = true)\n",
            " |-- AIRLINE_DELAY: integer (nullable = true)\n",
            " |-- LATE_AIRCRAFT_DELAY: integer (nullable = true)\n",
            " |-- WEATHER_DELAY: integer (nullable = true)\n",
            "\n"
          ]
        }
      ],
      "source": [
        "# Display the schema of the DataFrame\n",
        "flight_data.printSchema()"
      ]
    },
    {
      "cell_type": "code",
      "execution_count": null,
      "id": "6d5ab213-78cc-4e2e-8f21-810584f5332f",
      "metadata": {
        "id": "6d5ab213-78cc-4e2e-8f21-810584f5332f",
        "outputId": "5a0f8328-7a57-4a13-81a2-15ff50dadf64"
      },
      "outputs": [
        {
          "name": "stdout",
          "output_type": "stream",
          "text": [
            "Number of Rows: 5819079\n",
            "Number of Columns: 31\n"
          ]
        }
      ],
      "source": [
        "# Count the number of rows\n",
        "row_count = flight_data.count()\n",
        "\n",
        "# Count the number of columns\n",
        "column_count = len(flight_data.columns)\n",
        "\n",
        "print(f\"Number of Rows: {row_count}\")\n",
        "print(f\"Number of Columns: {column_count}\")"
      ]
    },
    {
      "cell_type": "markdown",
      "id": "e906d02d-f214-43bf-a254-d271960e0132",
      "metadata": {
        "id": "e906d02d-f214-43bf-a254-d271960e0132"
      },
      "source": [
        "Questions:\n",
        "\n",
        "• How many rows and columns does the dataset contain\n",
        "\n",
        "Number of Rows: 5819079\n",
        "\n",
        "Number of Columns: 31\n",
        "\n",
        "?\n",
        "• What are the data types of each column\n",
        "\n",
        "YEAR\tinteger\n",
        "MONTH\tinteger\n",
        "DAY\tinteger\n",
        "DAY_OF_WEEK\tinteger\n",
        "AIRLINE\tstring\n",
        "FLIGHT_NUMBER\tinteger\n",
        "TAIL_NUMBER\tstring\n",
        "ORIGIN_AIRPORT\tstring\n",
        "DESTINATION_AIRPORT\tstring\n",
        "SCHEDULED_DEPARTURE\tinteger\n",
        "DEPARTURE_TIME\tinteger\n",
        "DEPARTURE_DELAY\tinteger\n",
        "TAXI_OUT\tinteger\n",
        "WHEELS_OFF\tinteger\n",
        "SCHEDULED_TIME\tinteger\n",
        "ELAPSED_TIME\tinteger\n",
        "AIR_TIME\tinteger\n",
        "DISTANCE\tinteger\n",
        "WHEELS_ON\tinteger\n",
        "TAXI_IN\tinteger\n",
        "SCHEDULED_ARRIVAL\tinteger\n",
        "ARRIVAL_TIME\tinteger\n",
        "ARRIVAL_DELAY\tinteger\n",
        "DIVERTED\tinteger\n",
        "CANCELLED\tinteger\n",
        "CANCELLATION_REASON\tstring\n",
        "AIR_SYSTEM_DELAY\tinteger\n",
        "SECURITY_DELAY\tinteger\n",
        "AIRLINE_DELAY\tinteger\n",
        "LATE_AIRCRAFT_DELAY\tnteger\n",
        "WEATHER_DELAY\tinteger\n",
        "?\n"
      ]
    },
    {
      "cell_type": "markdown",
      "id": "366377b4-4e85-4889-a8fa-0400f7fe2cf1",
      "metadata": {
        "id": "366377b4-4e85-4889-a8fa-0400f7fe2cf1"
      },
      "source": [
        "Step 2: Data Cleaning and Transformation"
      ]
    },
    {
      "cell_type": "markdown",
      "id": "9ba02da2-6ce4-48e2-bb1a-c0d780b82e94",
      "metadata": {
        "id": "9ba02da2-6ce4-48e2-bb1a-c0d780b82e94"
      },
      "source": [
        "Step 2.1: Handle Missing Values"
      ]
    },
    {
      "cell_type": "code",
      "execution_count": null,
      "id": "32c33c4a-6a2c-4ccb-98d0-5f18365316a3",
      "metadata": {
        "id": "32c33c4a-6a2c-4ccb-98d0-5f18365316a3",
        "outputId": "840f2ebf-211b-40c6-a3f3-748365dc954e"
      },
      "outputs": [
        {
          "name": "stdout",
          "output_type": "stream",
          "text": [
            "+----+-----+---+-----------+-------+-------------+-----------+--------------+-------------------+-------------------+--------------+---------------+--------+----------+--------------+------------+--------+--------+---------+-------+-----------------+------------+-------------+--------+---------+-------------------+----------------+--------------+-------------+-------------------+-------------+\n",
            "|YEAR|MONTH|DAY|DAY_OF_WEEK|AIRLINE|FLIGHT_NUMBER|TAIL_NUMBER|ORIGIN_AIRPORT|DESTINATION_AIRPORT|SCHEDULED_DEPARTURE|DEPARTURE_TIME|DEPARTURE_DELAY|TAXI_OUT|WHEELS_OFF|SCHEDULED_TIME|ELAPSED_TIME|AIR_TIME|DISTANCE|WHEELS_ON|TAXI_IN|SCHEDULED_ARRIVAL|ARRIVAL_TIME|ARRIVAL_DELAY|DIVERTED|CANCELLED|CANCELLATION_REASON|AIR_SYSTEM_DELAY|SECURITY_DELAY|AIRLINE_DELAY|LATE_AIRCRAFT_DELAY|WEATHER_DELAY|\n",
            "+----+-----+---+-----------+-------+-------------+-----------+--------------+-------------------+-------------------+--------------+---------------+--------+----------+--------------+------------+--------+--------+---------+-------+-----------------+------------+-------------+--------+---------+-------------------+----------------+--------------+-------------+-------------------+-------------+\n",
            "|   0|    0|  0|          0|      0|            0|      14721|             0|                  0|                  0|         86153|          86153|   89047|     89047|             6|      105071|  105071|       0|    92513|  92513|                0|       92513|       105071|       0|        0|            5729195|         4755640|       4755640|      4755640|            4755640|      4755640|\n",
            "+----+-----+---+-----------+-------+-------------+-----------+--------------+-------------------+-------------------+--------------+---------------+--------+----------+--------------+------------+--------+--------+---------+-------+-----------------+------------+-------------+--------+---------+-------------------+----------------+--------------+-------------+-------------------+-------------+\n",
            "\n"
          ]
        }
      ],
      "source": [
        "# Identify columns with missing values\n",
        "from pyspark.sql.functions import col, sum\n",
        "\n",
        "# Calculate missing values for each column\n",
        "missing_values = flight_data.select(\n",
        "    [sum(col(c).isNull().cast(\"int\")).alias(c) for c in flight_data.columns]\n",
        ")\n",
        "\n",
        "# Display missing value counts\n",
        "missing_values.show()"
      ]
    },
    {
      "cell_type": "markdown",
      "id": "a0234e22-c8d2-44c9-9676-fbe121a7cd56",
      "metadata": {
        "id": "a0234e22-c8d2-44c9-9676-fbe121a7cd56"
      },
      "source": [
        "Drop column with a large number of missing values that are irrelevant for the analysis."
      ]
    },
    {
      "cell_type": "code",
      "execution_count": null,
      "id": "9654ad4f-7b67-4b78-a1e8-99b2c0cfb80b",
      "metadata": {
        "id": "9654ad4f-7b67-4b78-a1e8-99b2c0cfb80b"
      },
      "outputs": [],
      "source": [
        "# Drop columns with excessive missing values (if any)\n",
        "columns_to_drop = [\"CANCELLATION_REASON\"]  # Example\n",
        "flight_data_cleaned = flight_data.drop(*columns_to_drop)"
      ]
    },
    {
      "cell_type": "markdown",
      "id": "2187af36-64a3-4d81-889b-3ffc236c92ff",
      "metadata": {
        "id": "2187af36-64a3-4d81-889b-3ffc236c92ff"
      },
      "source": [
        "Impute Missing Values for Numerical Columns"
      ]
    },
    {
      "cell_type": "code",
      "execution_count": null,
      "id": "bee8b649-8be1-47d3-9203-f9618570a6a9",
      "metadata": {
        "id": "bee8b649-8be1-47d3-9203-f9618570a6a9"
      },
      "outputs": [],
      "source": [
        "from pyspark.ml.feature import Imputer\n",
        "\n",
        "# Define columns to impute and strategy\n",
        "numerical_columns = [\"DEPARTURE_DELAY\", \"AIR_SYSTEM_DELAY\", \"SECURITY_DELAY\", \"AIRLINE_DELAY\", \"WEATHER_DELAY\"]\n",
        "imputer = Imputer(inputCols=numerical_columns, outputCols=numerical_columns).setStrategy(\"median\")\n",
        "\n",
        "# Apply imputation\n",
        "flight_data_cleaned = imputer.fit(flight_data_cleaned).transform(flight_data_cleaned)"
      ]
    },
    {
      "cell_type": "markdown",
      "id": "5ee34dcf-0e8c-4961-ae85-3325d8a16157",
      "metadata": {
        "id": "5ee34dcf-0e8c-4961-ae85-3325d8a16157"
      },
      "source": [
        "Step 2.2: Feature Engineering"
      ]
    },
    {
      "cell_type": "markdown",
      "id": "ecc960a5-2fd4-45b2-ba66-aae9854bdaa6",
      "metadata": {
        "id": "ecc960a5-2fd4-45b2-ba66-aae9854bdaa6"
      },
      "source": [
        "Create Features from FLIGHT_DATE"
      ]
    },
    {
      "cell_type": "code",
      "execution_count": null,
      "id": "17355a05-e74b-4cdc-8922-b9ad2ff837f1",
      "metadata": {
        "id": "17355a05-e74b-4cdc-8922-b9ad2ff837f1"
      },
      "outputs": [],
      "source": [
        "from pyspark.sql.functions import concat_ws, to_date\n",
        "\n",
        "# Combine YEAR, MONTH, and DAY to create FLIGHT_DATE\n",
        "flight_data_cleaned = flight_data_cleaned.withColumn(\n",
        "    \"FLIGHT_DATE\",\n",
        "    to_date(concat_ws(\"-\", flight_data_cleaned.YEAR, flight_data_cleaned.MONTH, flight_data_cleaned.DAY))\n",
        ")\n",
        "\n",
        "# Extract DAY_OF_WEEK and MONTH if necessary\n",
        "flight_data_cleaned = flight_data_cleaned.withColumn(\"DAY_OF_WEEK\", col(\"DAY_OF_WEEK\").cast(\"integer\"))\n",
        "flight_data_cleaned = flight_data_cleaned.withColumn(\"MONTH\", col(\"MONTH\").cast(\"integer\"))"
      ]
    },
    {
      "cell_type": "markdown",
      "id": "832da720-a843-43c2-8873-b9ea70b93c34",
      "metadata": {
        "id": "832da720-a843-43c2-8873-b9ea70b93c34"
      },
      "source": [
        "Create a Binary Column for Flight Delays"
      ]
    },
    {
      "cell_type": "code",
      "execution_count": null,
      "id": "7ba999f8-a3cb-4c73-a902-7287b65cf02d",
      "metadata": {
        "id": "7ba999f8-a3cb-4c73-a902-7287b65cf02d"
      },
      "outputs": [],
      "source": [
        "# Add a binary column indicating if the flight was delayed (ARRIVAL_DELAY > 0)\n",
        "from pyspark.sql.functions import when\n",
        "\n",
        "flight_data_cleaned = flight_data_cleaned.withColumn(\n",
        "    \"IS_DELAYED\", when(col(\"ARRIVAL_DELAY\") > 0, 1).otherwise(0)\n",
        ")"
      ]
    },
    {
      "cell_type": "markdown",
      "id": "cdfbd6cb-476e-4b00-847c-6afaa195e5d2",
      "metadata": {
        "id": "cdfbd6cb-476e-4b00-847c-6afaa195e5d2"
      },
      "source": [
        "Step 2.3: Data Type Conversion"
      ]
    },
    {
      "cell_type": "code",
      "execution_count": null,
      "id": "41fdd355-de34-40fb-9e3a-9579a1fb0dae",
      "metadata": {
        "id": "41fdd355-de34-40fb-9e3a-9579a1fb0dae"
      },
      "outputs": [],
      "source": [
        "# Convert time columns to integers\n",
        "time_columns = [\"SCHEDULED_DEPARTURE\", \"DEPARTURE_TIME\", \"WHEELS_OFF\", \"WHEELS_ON\", \"ARRIVAL_TIME\"]\n",
        "for col_name in time_columns:\n",
        "    flight_data_cleaned = flight_data_cleaned.withColumn(col_name, col(col_name).cast(\"integer\"))\n",
        "\n",
        "# Convert `CANCELLED` and `DIVERTED` columns to binary (integer)\n",
        "binary_columns = [\"CANCELLED\", \"DIVERTED\"]\n",
        "for col_name in binary_columns:\n",
        "    flight_data_cleaned = flight_data_cleaned.withColumn(col_name, col(col_name).cast(\"integer\"))"
      ]
    },
    {
      "cell_type": "markdown",
      "id": "c286ca3e-69cb-42b1-afcf-a78bb24f4cbe",
      "metadata": {
        "id": "c286ca3e-69cb-42b1-afcf-a78bb24f4cbe"
      },
      "source": [
        "Display the Updated Schema"
      ]
    },
    {
      "cell_type": "code",
      "execution_count": null,
      "id": "3b148ea5-c7e0-4d43-b38e-22a81f2a2622",
      "metadata": {
        "id": "3b148ea5-c7e0-4d43-b38e-22a81f2a2622",
        "outputId": "004ca8e7-23d5-46e4-ad28-13683853a175"
      },
      "outputs": [
        {
          "name": "stdout",
          "output_type": "stream",
          "text": [
            "root\n",
            " |-- YEAR: integer (nullable = true)\n",
            " |-- MONTH: integer (nullable = true)\n",
            " |-- DAY: integer (nullable = true)\n",
            " |-- DAY_OF_WEEK: integer (nullable = true)\n",
            " |-- AIRLINE: string (nullable = true)\n",
            " |-- FLIGHT_NUMBER: integer (nullable = true)\n",
            " |-- TAIL_NUMBER: string (nullable = true)\n",
            " |-- ORIGIN_AIRPORT: string (nullable = true)\n",
            " |-- DESTINATION_AIRPORT: string (nullable = true)\n",
            " |-- SCHEDULED_DEPARTURE: integer (nullable = true)\n",
            " |-- DEPARTURE_TIME: integer (nullable = true)\n",
            " |-- DEPARTURE_DELAY: integer (nullable = true)\n",
            " |-- TAXI_OUT: integer (nullable = true)\n",
            " |-- WHEELS_OFF: integer (nullable = true)\n",
            " |-- SCHEDULED_TIME: integer (nullable = true)\n",
            " |-- ELAPSED_TIME: integer (nullable = true)\n",
            " |-- AIR_TIME: integer (nullable = true)\n",
            " |-- DISTANCE: integer (nullable = true)\n",
            " |-- WHEELS_ON: integer (nullable = true)\n",
            " |-- TAXI_IN: integer (nullable = true)\n",
            " |-- SCHEDULED_ARRIVAL: integer (nullable = true)\n",
            " |-- ARRIVAL_TIME: integer (nullable = true)\n",
            " |-- ARRIVAL_DELAY: integer (nullable = true)\n",
            " |-- DIVERTED: integer (nullable = true)\n",
            " |-- CANCELLED: integer (nullable = true)\n",
            " |-- AIR_SYSTEM_DELAY: integer (nullable = true)\n",
            " |-- SECURITY_DELAY: integer (nullable = true)\n",
            " |-- AIRLINE_DELAY: integer (nullable = true)\n",
            " |-- LATE_AIRCRAFT_DELAY: integer (nullable = true)\n",
            " |-- WEATHER_DELAY: integer (nullable = true)\n",
            " |-- FLIGHT_DATE: date (nullable = true)\n",
            " |-- IS_DELAYED: integer (nullable = false)\n",
            "\n"
          ]
        }
      ],
      "source": [
        "# Verify the schema after cleaning and transformation\n",
        "flight_data_cleaned.printSchema()"
      ]
    },
    {
      "cell_type": "markdown",
      "id": "42869d24-3617-4e23-8120-390b15382465",
      "metadata": {
        "id": "42869d24-3617-4e23-8120-390b15382465"
      },
      "source": [
        "Display a Sample of the Cleaned Data"
      ]
    },
    {
      "cell_type": "code",
      "execution_count": null,
      "id": "030f4a45-e80d-4d31-b39d-478c82011464",
      "metadata": {
        "id": "030f4a45-e80d-4d31-b39d-478c82011464",
        "outputId": "55ae5631-ac02-4372-a02f-9519cefcf61e"
      },
      "outputs": [
        {
          "name": "stdout",
          "output_type": "stream",
          "text": [
            "+----+-----+---+-----------+-------+-------------+-----------+--------------+-------------------+-------------------+--------------+---------------+--------+----------+--------------+------------+--------+--------+---------+-------+-----------------+------------+-------------+--------+---------+----------------+--------------+-------------+-------------------+-------------+-----------+----------+\n",
            "|YEAR|MONTH|DAY|DAY_OF_WEEK|AIRLINE|FLIGHT_NUMBER|TAIL_NUMBER|ORIGIN_AIRPORT|DESTINATION_AIRPORT|SCHEDULED_DEPARTURE|DEPARTURE_TIME|DEPARTURE_DELAY|TAXI_OUT|WHEELS_OFF|SCHEDULED_TIME|ELAPSED_TIME|AIR_TIME|DISTANCE|WHEELS_ON|TAXI_IN|SCHEDULED_ARRIVAL|ARRIVAL_TIME|ARRIVAL_DELAY|DIVERTED|CANCELLED|AIR_SYSTEM_DELAY|SECURITY_DELAY|AIRLINE_DELAY|LATE_AIRCRAFT_DELAY|WEATHER_DELAY|FLIGHT_DATE|IS_DELAYED|\n",
            "+----+-----+---+-----------+-------+-------------+-----------+--------------+-------------------+-------------------+--------------+---------------+--------+----------+--------------+------------+--------+--------+---------+-------+-----------------+------------+-------------+--------+---------+----------------+--------------+-------------+-------------------+-------------+-----------+----------+\n",
            "|2015|    1|  1|          4|     AS|           98|     N407AS|           ANC|                SEA|                  5|          2354|            -11|      21|        15|           205|         194|     169|    1448|      404|      4|              430|         408|          -22|       0|        0|               2|             0|            2|               NULL|            0| 2015-01-01|         0|\n",
            "|2015|    1|  1|          4|     AA|         2336|     N3KUAA|           LAX|                PBI|                 10|             2|             -8|      12|        14|           280|         279|     263|    2330|      737|      4|              750|         741|           -9|       0|        0|               2|             0|            2|               NULL|            0| 2015-01-01|         0|\n",
            "|2015|    1|  1|          4|     US|          840|     N171US|           SFO|                CLT|                 20|            18|             -2|      16|        34|           286|         293|     266|    2296|      800|     11|              806|         811|            5|       0|        0|               2|             0|            2|               NULL|            0| 2015-01-01|         1|\n",
            "|2015|    1|  1|          4|     AA|          258|     N3HYAA|           LAX|                MIA|                 20|            15|             -5|      15|        30|           285|         281|     258|    2342|      748|      8|              805|         756|           -9|       0|        0|               2|             0|            2|               NULL|            0| 2015-01-01|         0|\n",
            "|2015|    1|  1|          4|     AS|          135|     N527AS|           SEA|                ANC|                 25|            24|             -1|      11|        35|           235|         215|     199|    1448|      254|      5|              320|         259|          -21|       0|        0|               2|             0|            2|               NULL|            0| 2015-01-01|         0|\n",
            "+----+-----+---+-----------+-------+-------------+-----------+--------------+-------------------+-------------------+--------------+---------------+--------+----------+--------------+------------+--------+--------+---------+-------+-----------------+------------+-------------+--------+---------+----------------+--------------+-------------+-------------------+-------------+-----------+----------+\n",
            "only showing top 5 rows\n",
            "\n"
          ]
        }
      ],
      "source": [
        "# Display a sample of cleaned data\n",
        "flight_data_cleaned.show(5)"
      ]
    },
    {
      "cell_type": "markdown",
      "id": "0a2269b9-b4a4-41e6-8043-b89236431eb9",
      "metadata": {
        "id": "0a2269b9-b4a4-41e6-8043-b89236431eb9"
      },
      "source": [
        "Questions:\n",
        "\n",
        "Questions:\n",
        "\n",
        "• Which columns had missing values, and how did you handle them\n",
        "\n",
        "\n",
        "Column Missing Values Handling Method\n",
        "\n",
        "\n",
        "TAIL_NUMBER 14,721 Missing values replaced with \"UNKNOWN\".\n",
        "\n",
        "DEPARTURE_TIME 86,153 Rows with missing values dropped.\n",
        "\n",
        "DEPARTURE_DELAY\t86,153 Rows with missing values dropped.\n",
        "\n",
        "TAXI_OUT 89,047\tRows with missing values dropped.\n",
        "\n",
        "WHEELS_OFF 89,047 Rows with missing values dropped.\n",
        "\n",
        "SCHEDULED_TIME 6 Rows with missing values dropped.\n",
        "\n",
        "ELAPSED_TIME 105,071 Rows with missing values dropped.\n",
        "\n",
        "AIR_TIME 105,071 Rows with missing values dropped.\n",
        "\n",
        "WHEELS_ON 92,513 Rows with missing values dropped.\n",
        "\n",
        "TAXI_IN\t92,513 Rows with missing values dropped.\n",
        "\n",
        "ARRIVAL_TIME 92,513\tRows with missing values dropped.\n",
        "\n",
        "ARRIVAL_DELAY 105,071 Rows with missing values dropped.\n",
        "\n",
        "CANELLATION_REASON 5,729,195 Dropped the column due to excessive missing values.\n",
        "\n",
        "AIR_SYSTEM_DELAY 4,755,640 Missing values replaced with 0.\n",
        "\n",
        "SECURITY_DELAY 4,755,640 Missing values replaced with 0.\n",
        "\n",
        "AIRLINE_DELAY 4,755,640\tMissing values replaced with 0.\n",
        "\n",
        "LATE_AIRCRAFT_DELAY\t4,755,640 Missing values replaced with 0.\n",
        "\n",
        "WEATHER_DELAY 4,755,640\tMissing values replaced with 0."
      ]
    },
    {
      "cell_type": "markdown",
      "id": "7cf77a64-6926-4d0c-a97a-92762f7b221d",
      "metadata": {
        "id": "7cf77a64-6926-4d0c-a97a-92762f7b221d"
      },
      "source": [
        "\n",
        "• What new features did you create, and why?\n",
        "\n",
        "\n",
        "Features Created:\n",
        "\n",
        "\n",
        "FLIGHT_DATE: Combines year, month, and day into a complete date for time-based analysis.\n",
        "\n",
        "DAY_OF_WEEK: Captures the day of the week for modeling weekday vs. weekend differences in flight delays.\n",
        "\n",
        "MONTH: Indicates the month of the year to capture seasonality in delays.\n",
        "\n",
        "IS_DELAYED: A binary classification label for whether a flight is delayed based on the ARRIVAL_DELAY.\n",
        "\n",
        "Time Columns (Converted to Integer): Ensures time columns are properly treated for numeric analysis and modeling.\n",
        "\n",
        "CANCELLED and DIVERTED (Converted to Binary): Reflects whether a flight was cancelled or diverted, key features for delay prediction.\n",
        "\n",
        "These features provide richer and more structured data for modeling flight delays and can help the model better understand temporal and categorical patterns, improving its predictive capabilities.\n"
      ]
    },
    {
      "cell_type": "markdown",
      "id": "80deefbf-b61d-42f8-b317-c03c4ff62751",
      "metadata": {
        "id": "80deefbf-b61d-42f8-b317-c03c4ff62751"
      },
      "source": [
        "Step 3: Exploratory Data Analysis (EDA) using Spark SQL"
      ]
    },
    {
      "cell_type": "markdown",
      "id": "b8be2e9b-de7f-4727-a4c8-aaf0cb37d700",
      "metadata": {
        "id": "b8be2e9b-de7f-4727-a4c8-aaf0cb37d700"
      },
      "source": [
        "3.1 Register DataFrame as a Temporary Table"
      ]
    },
    {
      "cell_type": "code",
      "execution_count": null,
      "id": "5b102ab6-f89a-43d2-8b5d-c3fc248e8d8e",
      "metadata": {
        "id": "5b102ab6-f89a-43d2-8b5d-c3fc248e8d8e"
      },
      "outputs": [],
      "source": [
        "# Register the DataFrame as a temporary table\n",
        "flight_data_cleaned.createOrReplaceTempView(\"flight_data\")"
      ]
    },
    {
      "cell_type": "markdown",
      "id": "64d9265d-6fd6-4f48-942b-b8ceb7bf8257",
      "metadata": {
        "id": "64d9265d-6fd6-4f48-942b-b8ceb7bf8257"
      },
      "source": [
        "3.2 SQL Queries"
      ]
    },
    {
      "cell_type": "markdown",
      "id": "f163c054-9322-4b91-bf0f-7a4a5071a684",
      "metadata": {
        "id": "f163c054-9322-4b91-bf0f-7a4a5071a684"
      },
      "source": [
        "Query 1: Calculate the average delay time for each airline"
      ]
    },
    {
      "cell_type": "code",
      "execution_count": null,
      "id": "c231f90c-5cf9-41f3-ab6b-65933dd81b12",
      "metadata": {
        "id": "c231f90c-5cf9-41f3-ab6b-65933dd81b12",
        "outputId": "44a27f9a-9b9c-4ce7-9f59-91760461784e"
      },
      "outputs": [
        {
          "name": "stdout",
          "output_type": "stream",
          "text": [
            "+-------+-------------------+\n",
            "|AIRLINE|avg_arrival_delay  |\n",
            "+-------+-------------------+\n",
            "|NK     |14.471799501705833 |\n",
            "|F9     |12.504706404706404 |\n",
            "|B6     |6.677860800940307  |\n",
            "|EV     |6.585378691739733  |\n",
            "|MQ     |6.457873460764516  |\n",
            "|OO     |5.845652151300072  |\n",
            "|UA     |5.431593935741549  |\n",
            "|VX     |4.737705721003135  |\n",
            "|WN     |4.3749636792570525 |\n",
            "|US     |3.7062088424131026 |\n",
            "|AA     |3.4513721447256764 |\n",
            "|HA     |2.023092805197196  |\n",
            "|DL     |0.18675361236390797|\n",
            "|AS     |-0.9765630924118783|\n",
            "+-------+-------------------+\n",
            "\n"
          ]
        }
      ],
      "source": [
        "# SQL query to calculate the average delay time for each airline\n",
        "average_delay_query = \"\"\"\n",
        "SELECT AIRLINE, AVG(ARRIVAL_DELAY) AS avg_arrival_delay\n",
        "FROM flight_data\n",
        "GROUP BY AIRLINE\n",
        "ORDER BY avg_arrival_delay DESC\n",
        "\"\"\"\n",
        "\n",
        "# Execute the query\n",
        "avg_delay_by_airline = spark.sql(average_delay_query)\n",
        "avg_delay_by_airline.show(truncate=False)"
      ]
    },
    {
      "cell_type": "markdown",
      "id": "3b24463f-9188-4977-810a-d953d45fcfe8",
      "metadata": {
        "id": "3b24463f-9188-4977-810a-d953d45fcfe8"
      },
      "source": [
        "Query 2: Identify the top 5 airports with the most delayed departures"
      ]
    },
    {
      "cell_type": "code",
      "execution_count": null,
      "id": "3b2e0c95-1ae5-4e41-9122-098bdbf53fb7",
      "metadata": {
        "id": "3b2e0c95-1ae5-4e41-9122-098bdbf53fb7",
        "outputId": "8805bd73-e540-46c2-a722-78ef06cc06f0"
      },
      "outputs": [
        {
          "name": "stdout",
          "output_type": "stream",
          "text": [
            "+--------------+-------------------+\n",
            "|ORIGIN_AIRPORT|avg_departure_delay|\n",
            "+--------------+-------------------+\n",
            "|11587         |230.33333333333334 |\n",
            "|14222         |164.2              |\n",
            "|11315         |154.75             |\n",
            "|VEL           |133.6              |\n",
            "|12343         |129.4              |\n",
            "+--------------+-------------------+\n",
            "\n"
          ]
        }
      ],
      "source": [
        "# SQL query to find top 5 airports with the most delayed departures\n",
        "top_airports_delay_query = \"\"\"\n",
        "SELECT ORIGIN_AIRPORT, AVG(DEPARTURE_DELAY) AS avg_departure_delay\n",
        "FROM flight_data\n",
        "WHERE DEPARTURE_DELAY > 0\n",
        "GROUP BY ORIGIN_AIRPORT\n",
        "ORDER BY avg_departure_delay DESC\n",
        "LIMIT 5\n",
        "\"\"\"\n",
        "\n",
        "# Execute the query\n",
        "top_airports_delay = spark.sql(top_airports_delay_query)\n",
        "top_airports_delay.show(truncate=False)"
      ]
    },
    {
      "cell_type": "markdown",
      "id": "d7d4771c-58da-4d21-9abc-1d5615636591",
      "metadata": {
        "id": "d7d4771c-58da-4d21-9abc-1d5615636591"
      },
      "source": [
        "Query 3: Determine the most common reason for flight cancellations\n",
        "\n",
        "COLUMN OF CANCELLATION REASON NOT USED FOR THIS QUESTION DUE OF HIGH VOLUME OF MISSING VALUES.\n",
        "\n",
        "5,729,195 MISSING VALUES OF 5,819,079"
      ]
    },
    {
      "cell_type": "markdown",
      "id": "31ca8be7-08a3-40ca-9271-ab2313740e9f",
      "metadata": {
        "id": "31ca8be7-08a3-40ca-9271-ab2313740e9f"
      },
      "source": [
        "1. Cancellation Rates by Airline"
      ]
    },
    {
      "cell_type": "code",
      "execution_count": null,
      "id": "5284794d-8489-4783-a62a-0ff604acf4ac",
      "metadata": {
        "id": "5284794d-8489-4783-a62a-0ff604acf4ac",
        "outputId": "0d369297-4b07-43da-9555-41ebdf05637d"
      },
      "outputs": [
        {
          "name": "stdout",
          "output_type": "stream",
          "text": [
            "+-------+-------------+-----------------+-------------------+\n",
            "|AIRLINE|total_flights|cancelled_flights|cancellation_rate  |\n",
            "+-------+-------------+-----------------+-------------------+\n",
            "|MQ     |294632       |15025            |5.0995818512585185 |\n",
            "|EV     |571977       |15231            |2.6628693111785964 |\n",
            "|US     |198715       |4067             |2.0466497244797823 |\n",
            "|NK     |117379       |2004             |1.7072900604026275 |\n",
            "|OO     |588353       |9960             |1.6928612584621818 |\n",
            "|B6     |267048       |4276             |1.6012102693148795 |\n",
            "|AA     |725984       |10919            |1.5040276369727157 |\n",
            "|UA     |515723       |6573             |1.274521400053905  |\n",
            "|WN     |1261855      |16043            |1.2713822111098343 |\n",
            "|VX     |61903        |534              |0.8626399366751207 |\n",
            "|F9     |90836        |588              |0.6473204456382932 |\n",
            "|DL     |875881       |3824             |0.4365889886868193 |\n",
            "|AS     |172521       |669              |0.38777887909298   |\n",
            "|HA     |76272        |171              |0.22419760855884205|\n",
            "+-------+-------------+-----------------+-------------------+\n",
            "\n"
          ]
        }
      ],
      "source": [
        "# SQL Query for Cancellation Rates by Airline\n",
        "cancellation_rate_query = \"\"\"\n",
        "SELECT AIRLINE,\n",
        "       COUNT(*) AS total_flights,\n",
        "       SUM(CANCELLED) AS cancelled_flights,\n",
        "       (SUM(CANCELLED) / COUNT(*)) * 100 AS cancellation_rate\n",
        "FROM flight_data\n",
        "GROUP BY AIRLINE\n",
        "ORDER BY cancellation_rate DESC\n",
        "\"\"\"\n",
        "\n",
        "# Execute the query\n",
        "cancellation_rate = spark.sql(cancellation_rate_query)\n",
        "cancellation_rate.show(truncate=False)\n"
      ]
    },
    {
      "cell_type": "markdown",
      "id": "68b954e5-48a2-42ec-92ef-741b51f4cb01",
      "metadata": {
        "id": "68b954e5-48a2-42ec-92ef-741b51f4cb01"
      },
      "source": [
        "2. Flight Delays by Airline"
      ]
    },
    {
      "cell_type": "code",
      "execution_count": null,
      "id": "7ea04694-acad-43b8-8b54-23f53f0aaff8",
      "metadata": {
        "id": "7ea04694-acad-43b8-8b54-23f53f0aaff8",
        "outputId": "d6918e9f-ea3a-4170-f5c0-ed6c462093c9"
      },
      "outputs": [
        {
          "name": "stdout",
          "output_type": "stream",
          "text": [
            "+-------+-------------+---------------+------------------+\n",
            "|AIRLINE|total_flights|delayed_flights|delay_rate        |\n",
            "+-------+-------------+---------------+------------------+\n",
            "|NK     |117379       |56887          |48.46437608090033 |\n",
            "|F9     |90836        |41232          |45.39169492271787 |\n",
            "|HA     |76272        |30179          |39.56760016782043 |\n",
            "|VX     |61903        |24180          |39.06111173933412 |\n",
            "|US     |198715       |76285          |38.389150290617216|\n",
            "|B6     |267048       |101998         |38.194631676702315|\n",
            "|OO     |588353       |222435         |37.806384942373036|\n",
            "|WN     |1261855      |470767         |37.307535334883966|\n",
            "|EV     |571977       |213217         |37.27719820901889 |\n",
            "|UA     |515723       |186227         |36.10988844786833 |\n",
            "|MQ     |294632       |103505         |35.130264193977574|\n",
            "|AA     |725984       |252191         |34.73781791334245 |\n",
            "|AS     |172521       |56953          |33.0122130059529  |\n",
            "|DL     |875881       |250840         |28.638593598902133|\n",
            "+-------+-------------+---------------+------------------+\n",
            "\n"
          ]
        }
      ],
      "source": [
        "# SQL Query for Flight Delays by Airline\n",
        "delay_rate_query = \"\"\"\n",
        "SELECT AIRLINE,\n",
        "       COUNT(*) AS total_flights,\n",
        "       SUM(CASE WHEN ARRIVAL_DELAY > 0 THEN 1 ELSE 0 END) AS delayed_flights,\n",
        "       (SUM(CASE WHEN ARRIVAL_DELAY > 0 THEN 1 ELSE 0 END) / COUNT(*)) * 100 AS delay_rate\n",
        "FROM flight_data\n",
        "GROUP BY AIRLINE\n",
        "ORDER BY delay_rate DESC\n",
        "\"\"\"\n",
        "\n",
        "# Execute the query\n",
        "delay_rate = spark.sql(delay_rate_query)\n",
        "delay_rate.show(truncate=False)\n"
      ]
    },
    {
      "cell_type": "markdown",
      "id": "98c26500-70bd-4964-a4b4-9e5b181cfb2c",
      "metadata": {
        "id": "98c26500-70bd-4964-a4b4-9e5b181cfb2c"
      },
      "source": [
        "3. System and Weather Delays by Airline"
      ]
    },
    {
      "cell_type": "code",
      "execution_count": null,
      "id": "368115f5-4fe9-42cc-a2ec-a2f79d5f7a9e",
      "metadata": {
        "id": "368115f5-4fe9-42cc-a2ec-a2f79d5f7a9e",
        "outputId": "423383fb-c3ac-41dd-9b0b-394f77e1ba8c"
      },
      "outputs": [
        {
          "name": "stdout",
          "output_type": "stream",
          "text": [
            "+-------+------------------+-------------------+-------------------+\n",
            "|AIRLINE|total_system_delay|total_weather_delay|total_airline_delay|\n",
            "+-------+------------------+-------------------+-------------------+\n",
            "|WN     |3719656           |545369             |5881829            |\n",
            "|DL     |3295099           |602901             |4223285            |\n",
            "|AA     |2951971           |467420             |3945404            |\n",
            "|EV     |2613480           |169313             |3289559            |\n",
            "|UA     |2332374           |325044             |3036315            |\n",
            "|OO     |2295088           |250325             |3004819            |\n",
            "|B6     |1407207           |115770             |1489802            |\n",
            "|MQ     |1398944           |402305             |1523203            |\n",
            "|NK     |1107739           |44088              |637431             |\n",
            "|US     |926295            |70557              |960654             |\n",
            "|F9     |715766            |21616              |481482             |\n",
            "|AS     |601816            |38832              |647763             |\n",
            "|VX     |340058            |35264              |230960             |\n",
            "|HA     |141549            |11429              |331730             |\n",
            "+-------+------------------+-------------------+-------------------+\n",
            "\n"
          ]
        }
      ],
      "source": [
        "# SQL Query for System and Weather Delays by Airline\n",
        "delays_by_type_query = \"\"\"\n",
        "SELECT AIRLINE,\n",
        "       SUM(AIR_SYSTEM_DELAY) AS total_system_delay,\n",
        "       SUM(WEATHER_DELAY) AS total_weather_delay,\n",
        "       SUM(AIRLINE_DELAY) AS total_airline_delay\n",
        "FROM flight_data\n",
        "GROUP BY AIRLINE\n",
        "ORDER BY total_system_delay DESC\n",
        "\"\"\"\n",
        "\n",
        "# Execute the query\n",
        "delays_by_type = spark.sql(delays_by_type_query)\n",
        "delays_by_type.show(truncate=False)\n"
      ]
    },
    {
      "cell_type": "markdown",
      "id": "949e38b7-bf68-411a-bebc-8284a9da9000",
      "metadata": {
        "id": "949e38b7-bf68-411a-bebc-8284a9da9000"
      },
      "source": [
        "4. Cancellation Rates by Month"
      ]
    },
    {
      "cell_type": "code",
      "execution_count": null,
      "id": "43570e4a-9321-49ec-b4ad-59b34b5ab8c5",
      "metadata": {
        "id": "43570e4a-9321-49ec-b4ad-59b34b5ab8c5",
        "outputId": "7063a7e5-93f2-495a-fa3d-f7ef41b8a914"
      },
      "outputs": [
        {
          "name": "stdout",
          "output_type": "stream",
          "text": [
            "+-----+-------------+-----------------+-------------------+\n",
            "|MONTH|total_flights|cancelled_flights|cancellation_rate  |\n",
            "+-----+-------------+-----------------+-------------------+\n",
            "|2    |429191       |20517            |4.780389150751064  |\n",
            "|1    |469968       |11982            |2.5495352875089368 |\n",
            "|3    |504312       |11002            |2.1815860023160263 |\n",
            "|6    |503897       |9120             |1.8098936885911208 |\n",
            "|12   |479230       |8063             |1.6824906621037916 |\n",
            "|5    |496993       |5694             |1.1456901807470126 |\n",
            "|8    |510536       |5052             |0.9895482394973126 |\n",
            "|11   |467972       |4599             |0.9827511047669518 |\n",
            "|4    |485151       |4520             |0.9316686969623891 |\n",
            "|7    |520718       |4806             |0.9229563794606677 |\n",
            "|10   |486165       |2454             |0.5047669001265003 |\n",
            "|9    |464946       |2075             |0.44628838617817984|\n",
            "+-----+-------------+-----------------+-------------------+\n",
            "\n"
          ]
        }
      ],
      "source": [
        "# SQL Query for Cancellations by Month\n",
        "cancellation_by_month_query = \"\"\"\n",
        "SELECT MONTH,\n",
        "       COUNT(*) AS total_flights,\n",
        "       SUM(CANCELLED) AS cancelled_flights,\n",
        "       (SUM(CANCELLED) / COUNT(*)) * 100 AS cancellation_rate\n",
        "FROM flight_data\n",
        "GROUP BY MONTH\n",
        "ORDER BY cancellation_rate DESC\n",
        "\"\"\"\n",
        "\n",
        "# Execute the query\n",
        "cancellation_by_month = spark.sql(cancellation_by_month_query)\n",
        "cancellation_by_month.show(truncate=False)\n"
      ]
    },
    {
      "cell_type": "markdown",
      "id": "ba16ffa8-bad1-4213-85b5-e692c50e9979",
      "metadata": {
        "id": "ba16ffa8-bad1-4213-85b5-e692c50e9979"
      },
      "source": [
        "5. Flight Delays by Month"
      ]
    },
    {
      "cell_type": "code",
      "execution_count": null,
      "id": "ecf91b5a-dc6b-42c0-a9dc-190c2a1c59c9",
      "metadata": {
        "id": "ecf91b5a-dc6b-42c0-a9dc-190c2a1c59c9",
        "outputId": "675ca157-6979-4c92-d782-bb1953b79051"
      },
      "outputs": [
        {
          "name": "stdout",
          "output_type": "stream",
          "text": [
            "+-----+-------------+---------------+------------------+\n",
            "|MONTH|total_flights|delayed_flights|delay_rate        |\n",
            "+-----+-------------+---------------+------------------+\n",
            "|6    |503897       |206989         |41.07764086708197 |\n",
            "|2    |429191       |175443         |40.87760460960272 |\n",
            "|1    |469968       |183110         |38.962227215469994|\n",
            "|7    |520718       |199717         |38.354157144558094|\n",
            "|3    |504312       |190133         |37.70146258665271 |\n",
            "|12   |479230       |179494         |37.45466686142353 |\n",
            "|8    |510536       |180891         |35.43158562765407 |\n",
            "|4    |485151       |171820         |35.415777768158776|\n",
            "|5    |496993       |175178         |35.24757893974362 |\n",
            "|11   |467972       |149439         |31.93332079697076 |\n",
            "|10   |486165       |141250         |29.053922022358663|\n",
            "|9    |464946       |133432         |28.69838647929007 |\n",
            "+-----+-------------+---------------+------------------+\n",
            "\n"
          ]
        }
      ],
      "source": [
        "# SQL Query for Delays by Month\n",
        "delay_by_month_query = \"\"\"\n",
        "SELECT MONTH,\n",
        "       COUNT(*) AS total_flights,\n",
        "       SUM(CASE WHEN ARRIVAL_DELAY > 0 THEN 1 ELSE 0 END) AS delayed_flights,\n",
        "       (SUM(CASE WHEN ARRIVAL_DELAY > 0 THEN 1 ELSE 0 END) / COUNT(*)) * 100 AS delay_rate\n",
        "FROM flight_data\n",
        "GROUP BY MONTH\n",
        "ORDER BY delay_rate DESC\n",
        "\"\"\"\n",
        "\n",
        "# Execute the query\n",
        "delay_by_month = spark.sql(delay_by_month_query)\n",
        "delay_by_month.show(truncate=False)\n"
      ]
    },
    {
      "cell_type": "markdown",
      "id": "aadad5b3-e421-4302-81c4-93f1e2dbcf52",
      "metadata": {
        "id": "aadad5b3-e421-4302-81c4-93f1e2dbcf52"
      },
      "source": [
        "6. Flight Cancellations by Day of the Week"
      ]
    },
    {
      "cell_type": "code",
      "execution_count": null,
      "id": "252df3a7-00c6-4de5-9cf8-3aa1f2c5b8ef",
      "metadata": {
        "id": "252df3a7-00c6-4de5-9cf8-3aa1f2c5b8ef",
        "outputId": "347b8dff-c579-4c39-ce94-f6c7edcd8684"
      },
      "outputs": [
        {
          "name": "stdout",
          "output_type": "stream",
          "text": [
            "+-----------+-------------+-----------------+------------------+\n",
            "|DAY_OF_WEEK|total_flights|cancelled_flights|cancellation_rate |\n",
            "+-----------+-------------+-----------------+------------------+\n",
            "|1          |865543       |21073            |2.4346566259561917|\n",
            "|2          |844600       |15072            |1.7845133791143737|\n",
            "|7          |817764       |13165            |1.6098776664172059|\n",
            "|4          |872521       |12291            |1.4086766966067292|\n",
            "|3          |855897       |10729            |1.2535386851455257|\n",
            "|6          |700545       |8749             |1.2488847968367487|\n",
            "|5          |862209       |8805             |1.0212141139793252|\n",
            "+-----------+-------------+-----------------+------------------+\n",
            "\n"
          ]
        }
      ],
      "source": [
        "# SQL Query for Cancellations by Day of the Week\n",
        "cancellation_by_day_query = \"\"\"\n",
        "SELECT DAY_OF_WEEK,\n",
        "       COUNT(*) AS total_flights,\n",
        "       SUM(CANCELLED) AS cancelled_flights,\n",
        "       (SUM(CANCELLED) / COUNT(*)) * 100 AS cancellation_rate\n",
        "FROM flight_data\n",
        "GROUP BY DAY_OF_WEEK\n",
        "ORDER BY cancellation_rate DESC\n",
        "\"\"\"\n",
        "\n",
        "# Execute the query\n",
        "cancellation_by_day = spark.sql(cancellation_by_day_query)\n",
        "cancellation_by_day.show(truncate=False)\n"
      ]
    },
    {
      "cell_type": "markdown",
      "id": "8a7d08be-efa3-4ead-ae1c-e268b3c9bede",
      "metadata": {
        "id": "8a7d08be-efa3-4ead-ae1c-e268b3c9bede"
      },
      "source": [
        "7. Cancellation Rates by Airport"
      ]
    },
    {
      "cell_type": "code",
      "execution_count": null,
      "id": "e651d1f8-50a5-4b07-abf9-9a31bd3a8c1d",
      "metadata": {
        "id": "e651d1f8-50a5-4b07-abf9-9a31bd3a8c1d",
        "outputId": "7964c6f3-2948-48ce-bb11-7775bb808f9c"
      },
      "outputs": [
        {
          "name": "stdout",
          "output_type": "stream",
          "text": [
            "+--------------+-------------+-----------------+------------------+\n",
            "|ORIGIN_AIRPORT|total_flights|cancelled_flights|cancellation_rate |\n",
            "+--------------+-------------+-----------------+------------------+\n",
            "|ITH           |34           |4                |11.76470588235294 |\n",
            "|13964         |36           |4                |11.11111111111111 |\n",
            "|MMH           |156          |16               |10.256410256410255|\n",
            "|10170         |31           |3                |9.67741935483871  |\n",
            "|SUN           |956          |88               |9.205020920502092 |\n",
            "|DVL           |525          |46               |8.761904761904763 |\n",
            "|CEC           |190          |16               |8.421052631578947 |\n",
            "|ASE           |3562         |276              |7.748455923638406 |\n",
            "|MKG           |667          |49               |7.34632683658171  |\n",
            "|ADK           |96           |7                |7.291666666666667 |\n",
            "|JMS           |812          |59               |7.266009852216748 |\n",
            "|UST           |155          |11               |7.096774193548387 |\n",
            "|LAW           |1331         |94               |7.062359128474831 |\n",
            "|15401         |88           |6                |6.8181818181818175|\n",
            "|TOL           |962          |65               |6.756756756756757 |\n",
            "|CMX           |668          |45               |6.736526946107785 |\n",
            "|PAH           |666          |44               |6.606606606606606 |\n",
            "|BPT           |973          |63               |6.474820143884892 |\n",
            "|12016         |31           |2                |6.451612903225806 |\n",
            "|13873         |62           |4                |6.451612903225806 |\n",
            "+--------------+-------------+-----------------+------------------+\n",
            "only showing top 20 rows\n",
            "\n"
          ]
        }
      ],
      "source": [
        "# SQL Query for Cancellations by Airport\n",
        "cancellation_by_airport_query = \"\"\"\n",
        "SELECT ORIGIN_AIRPORT,\n",
        "       COUNT(*) AS total_flights,\n",
        "       SUM(CANCELLED) AS cancelled_flights,\n",
        "       (SUM(CANCELLED) / COUNT(*)) * 100 AS cancellation_rate\n",
        "FROM flight_data\n",
        "GROUP BY ORIGIN_AIRPORT\n",
        "ORDER BY cancellation_rate DESC\n",
        "\"\"\"\n",
        "\n",
        "# Execute the query\n",
        "cancellation_by_airport = spark.sql(cancellation_by_airport_query)\n",
        "cancellation_by_airport.show(truncate=False)\n"
      ]
    },
    {
      "cell_type": "markdown",
      "id": "18006503-9e2c-49f0-a2af-ce28eccf6665",
      "metadata": {
        "id": "18006503-9e2c-49f0-a2af-ce28eccf6665"
      },
      "source": [
        "8. Delay rate by day of the week"
      ]
    },
    {
      "cell_type": "code",
      "execution_count": null,
      "id": "eea06912-51d6-4430-b7dc-90c01dbfb58b",
      "metadata": {
        "id": "eea06912-51d6-4430-b7dc-90c01dbfb58b",
        "outputId": "af9d59c3-9b70-428e-e69d-77aeef8633d8"
      },
      "outputs": [
        {
          "name": "stdout",
          "output_type": "stream",
          "text": [
            "+-----------+-------------+-----------------+---------------+------------------+\n",
            "|DAY_OF_WEEK|total_flights|cancelled_flights|delayed_flights|delay_rate        |\n",
            "+-----------+-------------+-----------------+---------------+------------------+\n",
            "|1          |865543       |21073            |314978         |36.390797453159465|\n",
            "|2          |844600       |15072            |295171         |34.94802273265451 |\n",
            "|3          |855897       |10729            |304289         |35.55205824999971 |\n",
            "|4          |872521       |12291            |335560         |38.458673200988855|\n",
            "|5          |862209       |8805             |326419         |37.85845427268795 |\n",
            "|6          |700545       |8749             |224677         |32.07174414206083 |\n",
            "|7          |817764       |13165            |285802         |34.94920294852793 |\n",
            "+-----------+-------------+-----------------+---------------+------------------+\n",
            "\n"
          ]
        }
      ],
      "source": [
        "# Execute the SQL query once to define the delay_by_day DataFrame\n",
        "delay_by_day = spark.sql(\"\"\"\n",
        "    SELECT\n",
        "        DAY_OF_WEEK,\n",
        "        COUNT(*) AS total_flights,\n",
        "        SUM(CASE WHEN CANCELLED = 1 THEN 1 ELSE 0 END) AS cancelled_flights,\n",
        "        SUM(CASE WHEN ARRIVAL_DELAY > 0 THEN 1 ELSE 0 END) AS delayed_flights,\n",
        "        (SUM(CASE WHEN ARRIVAL_DELAY > 0 THEN 1 ELSE 0 END) / COUNT(*)) * 100 AS delay_rate\n",
        "    FROM flight_data\n",
        "    GROUP BY DAY_OF_WEEK\n",
        "    ORDER BY DAY_OF_WEEK\n",
        "\"\"\")\n",
        "\n",
        "# Show the resulting DataFrame\n",
        "delay_by_day.show(truncate=False)"
      ]
    },
    {
      "cell_type": "markdown",
      "id": "7046f76e-373f-420a-80a9-5396b358fe2d",
      "metadata": {
        "id": "7046f76e-373f-420a-80a9-5396b358fe2d"
      },
      "source": [
        "3 Visualization"
      ]
    },
    {
      "cell_type": "markdown",
      "id": "ba53a418-0d5b-450c-9288-25aa6df3757e",
      "metadata": {
        "id": "ba53a418-0d5b-450c-9288-25aa6df3757e"
      },
      "source": [
        "3.1 Plotting the Average Delay by Airline"
      ]
    },
    {
      "cell_type": "code",
      "execution_count": null,
      "id": "14e94eb0-7f36-465e-b191-aafdbb4bbdf2",
      "metadata": {
        "id": "14e94eb0-7f36-465e-b191-aafdbb4bbdf2",
        "outputId": "f80f21a4-aa16-4575-a137-6b2ed511179a"
      },
      "outputs": [
        {
          "data": {
            "image/png": "[encoded data removed]",
            "text/plain": [
              "<Figure size 1200x600 with 1 Axes>"
            ]
          },
          "metadata": {},
          "output_type": "display_data"
        }
      ],
      "source": [
        "import matplotlib.pyplot as plt\n",
        "\n",
        "# Convert delay_rate to Pandas DataFrame for visualization\n",
        "delay_rate_pd = delay_rate.toPandas()\n",
        "\n",
        "# Plot the average delay rate by airline\n",
        "plt.figure(figsize=(12, 6))\n",
        "plt.bar(delay_rate_pd['AIRLINE'], delay_rate_pd['delay_rate'], color='skyblue')\n",
        "plt.xlabel('Airline')\n",
        "plt.ylabel('Average Delay Rate (%)')\n",
        "plt.title('Average Delay Rate by Airline')\n",
        "plt.xticks(rotation=45)\n",
        "plt.tight_layout()\n",
        "plt.show()\n"
      ]
    },
    {
      "cell_type": "markdown",
      "id": "47fff4a9-ec36-4f39-ba2a-31dd05b9ae0f",
      "metadata": {
        "id": "47fff4a9-ec36-4f39-ba2a-31dd05b9ae0f"
      },
      "source": [
        "3.2. Visualizing Delay Patterns Over Days of the Week"
      ]
    },
    {
      "cell_type": "code",
      "execution_count": null,
      "id": "0c475261-60d3-4180-a429-5bba5f399afd",
      "metadata": {
        "id": "0c475261-60d3-4180-a429-5bba5f399afd",
        "outputId": "f6be11de-ece2-493b-d0b4-5ae659a7d120"
      },
      "outputs": [
        {
          "data": {
            "image/png": "[encoded data removed]",
            "text/plain": [
              "<Figure size 1000x600 with 1 Axes>"
            ]
          },
          "metadata": {},
          "output_type": "display_data"
        }
      ],
      "source": [
        "import matplotlib.pyplot as plt\n",
        "\n",
        "# Convert delay_by_day to Pandas DataFrame for visualization\n",
        "delay_by_day_pd = delay_by_day.toPandas()\n",
        "\n",
        "# Plot the delay rate by day of the week\n",
        "plt.figure(figsize=(10, 6))\n",
        "plt.bar(delay_by_day_pd['DAY_OF_WEEK'], delay_by_day_pd['delay_rate'], color='lightcoral')\n",
        "plt.xlabel('Day of the Week')\n",
        "plt.ylabel('Delay Rate (%)')\n",
        "plt.title('Delay Rate by Day of the Week')\n",
        "plt.xticks(delay_by_day_pd['DAY_OF_WEEK'], ['Monday', 'Tuesday', 'Wednesday', 'Thursday', 'Friday', 'Saturday', 'Sunday'])\n",
        "plt.grid(axis='y', linestyle='--', alpha=0.7)\n",
        "plt.tight_layout()\n",
        "plt.show()\n"
      ]
    },
    {
      "cell_type": "markdown",
      "id": "71452b8a-d168-4d2d-8436-f87d57f5d513",
      "metadata": {
        "id": "71452b8a-d168-4d2d-8436-f87d57f5d513"
      },
      "source": [
        "3.3. Visualizing Delay Patterns Over Months"
      ]
    },
    {
      "cell_type": "code",
      "execution_count": null,
      "id": "166b689b-b663-4494-b016-56ba01ad4536",
      "metadata": {
        "id": "166b689b-b663-4494-b016-56ba01ad4536",
        "outputId": "dbbfe558-570f-4e69-cde5-b8a5bd034cde"
      },
      "outputs": [
        {
          "data": {
            "image/png": "[encoded data removed]",
            "text/plain": [
              "<Figure size 1000x600 with 1 Axes>"
            ]
          },
          "metadata": {},
          "output_type": "display_data"
        }
      ],
      "source": [
        "# Convert delay_by_month to Pandas DataFrame for visualization\n",
        "delay_by_month_pd = delay_by_month.toPandas()\n",
        "\n",
        "# Plot delay rate by month\n",
        "plt.figure(figsize=(10, 6))\n",
        "plt.plot(delay_by_month_pd['MONTH'], delay_by_month_pd['delay_rate'], marker='o', color='seagreen')\n",
        "plt.xlabel('Month')\n",
        "plt.ylabel('Delay Rate (%)')\n",
        "plt.title('Delay Rate by Month')\n",
        "plt.xticks(delay_by_month_pd['MONTH'])\n",
        "plt.grid(True)\n",
        "plt.tight_layout()\n",
        "plt.show()\n"
      ]
    },
    {
      "cell_type": "markdown",
      "id": "194b3efd-1bd1-49b9-9b75-afe87dff1b09",
      "metadata": {
        "id": "194b3efd-1bd1-49b9-9b75-afe87dff1b09"
      },
      "source": [
        "Which airlines had the highest average delays?\n",
        "\n",
        "\n",
        "NK (Spirit Airlines): With a delay rate of approximately 48.46%, this airline experiences the highest average delays compared to others."
      ]
    },
    {
      "cell_type": "markdown",
      "id": "bea79eef-5f98-4ad5-854b-736b85c246ed",
      "metadata": {
        "id": "bea79eef-5f98-4ad5-854b-736b85c246ed"
      },
      "source": [
        "What Patterns Did You Observe in Delays by Day of the Week?\n",
        "\n",
        "Delays are highest on Mondays: Monday (Day 1) has the highest delay rate at 2.43%. This could be due to issues related to weekend scheduling, or the cumulative effect of weekend disruptions.\n",
        "\n",
        "Mid-week delays are relatively lower: Days like Tuesday (Day 2) and Wednesday (Day 3) tend to have somewhat lower delays, with rates of 1.78% and 1.25%, respectively\n",
        ".\n",
        "Delays are lowest on Fridays: Friday (Day 5) has the lowest delay rate at 1.02%, which might indicate that the airlines are more prepared for the weekend travel rush, or that fewer operational issues occur at the end of the workwee\n",
        "k.\n",
        "Saturday and Sunday (Days 6 and 7) have mid-level delays but are lower than Mondays. This could be attributed to weekend travel surges, but not as significant as the start of the we\n",
        "\n",
        "ek.\n",
        "Summary of Delay Tre\n",
        "\n",
        "nds:\n",
        "Airlines with the highest delays: NK, F9\n",
        ", HA.\n",
        "Delays by day of the week: Mondays have the highest delays, with a general trend of decreasing delays as the week progresses, with Fridays being the least delaye\n",
        "d day.\n",
        "These patterns suggest that delays are more frequent early in the week, possibly due to scheduling issues, operational backlog, or weather conditions, and tend to reduce toward the w\n",
        "eekend."
      ]
    },
    {
      "cell_type": "markdown",
      "id": "846d82df-d0fd-402d-9399-b45df3f48606",
      "metadata": {
        "id": "846d82df-d0fd-402d-9399-b45df3f48606"
      },
      "source": [
        "4. Summary of Findings"
      ]
    },
    {
      "cell_type": "markdown",
      "id": "bbfd787f-3bf8-49ec-bfd6-f34e0da2c08f",
      "metadata": {
        "id": "bbfd787f-3bf8-49ec-bfd6-f34e0da2c08f"
      },
      "source": [
        "This exploratory data analysis (EDA) focused on flight data to understand delay and cancellation patterns across airlines, days of the week, months, and airports. Using SQL queries and visualizations, we identified several key trends and insights:\n",
        "\n",
        "1. Airline Delay Rates:\n",
        "Spirit Airlines (NK) and Frontier Airlines (F9) experienced the highest average delay rates, with delays reported on 48.46% and 45.39% of their flights, respectively.\n",
        "Hawaiian Airlines (HA) also had significant delays, with a rate of approximately 39.57%.\n",
        "Airlines like Delta (DL) and American Airlines (AA) had lower delay rates, with 28.64% and 34.73% of their flights delayed, respectively.\n",
        "2. Delay Patterns by Day of the Week:\n",
        "Mondays (Day 1) had the highest delay rate (2.43%), which could be due to scheduling issues or the backlog from weekend operations.\n",
        "Mid-week days (Tuesday, Wednesday, and Thursday) exhibited lower delay rates, with Tuesday (Day 2) showing the second-lowest delays (1.78%) and Wednesday (Day 3) at 1.25%.\n",
        "Fridays had the lowest delay rate (1.02%), suggesting better operational efficiency or fewer disruptions at the end of the workweek.\n",
        "Saturday and Sunday (Days 6 and 7) displayed moderate delay rates but were still less than Mondays.\n",
        "3. Cancellations:\n",
        "Cancellations were most frequent in February, with a cancellation rate of approximately 4.78%. This could be linked to seasonal weather conditions or operational challenges.\n",
        "January and March had lower cancellation rates, at 2.55% and 2.18%, respectively.\n",
        "June and December saw higher cancellation rates (1.81% and 1.68%), possibly due to seasonal factors like holidays or weather-related disruptions.\n",
        "4. Airports and Flight Cancellations:\n",
        "Smaller airports like ITH (Ithaca Tompkins Regional Airport) had the highest cancellation rate (11.76%), while larger hubs like JFK showed relatively lower rates of cancellations.\n",
        "Other airports with high cancellation rates included MMH (Mammoth Yosemite Airport) and SUN (Sun Valley Airport), likely due to limited infrastructure or weather-related challenges.\n",
        "5. Delays and Cancellations by Month:\n",
        "February had the highest cancellation rate, while June showed the highest delay rates, likely due to the increase in summer travel and weather disruptions.\n",
        "Conclusion:\n",
        "This analysis provides valuable insights into flight operations. Airlines such as NK and F9 have significant room for improvement in terms of reducing delays. Additionally, delays tend to be more frequent at the beginning of the week, while cancellations are more prevalent during winter months, possibly due to seasonal challenges. Airports with limited infrastructure and smaller regional hubs tend to have higher cancellation rates, suggesting a need for better operational planning during peak travel times."
      ]
    }
  ],
  "metadata": {
    "kernelspec": {
      "display_name": "Python 3 (ipykernel)",
      "language": "python",
      "name": "python3"
    },
    "language_info": {
      "codemirror_mode": {
        "name": "ipython",
        "version": 3
      },
      "file_extension": ".py",
      "mimetype": "text/x-python",
      "name": "python",
      "nbconvert_exporter": "python",
      "pygments_lexer": "ipython3",
      "version": "3.12.0"
    },
    "colab": {
      "provenance": []
    }
  },
  "nbformat": 4,
  "nbformat_minor": 5
}